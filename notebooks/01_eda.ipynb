# Python 3.11.x compatível
import pandas as pd
import numpy as np
import re
from wordcloud import WordCloud
import matplotlib.pyplot as plt

